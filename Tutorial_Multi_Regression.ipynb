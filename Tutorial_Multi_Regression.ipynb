{
 "cells": [
  {
   "cell_type": "code",
   "execution_count": 21,
   "metadata": {
    "collapsed": false
   },
   "outputs": [],
   "source": [
    "%matplotlib inline\n",
    "\n",
    "# Import Matplotlib to plot data \n",
    "import matplotlib\n",
    "import numpy as np\n",
    "import matplotlib.pyplot as plt\n",
    "\n",
    "# Import the pandas library.\n",
    "import pandas\n",
    "\n",
    "# Import a convenience function to split the sets.\n",
    "from sklearn.cross_validation import train_test_split\n",
    "\n",
    "# Import the linearregression model.\n",
    "from sklearn.linear_model import LinearRegression\n",
    "\n",
    "# Import the scikit-learn function to compute error.\n",
    "from sklearn.metrics import mean_squared_error,  r2_score\n",
    "\n",
    "# Import the random forest model.\n",
    "from sklearn.ensemble import RandomForestRegressor"
   ]
  },
  {
   "cell_type": "code",
   "execution_count": 2,
   "metadata": {
    "collapsed": false
   },
   "outputs": [
    {
     "name": "stdout",
     "output_type": "stream",
     "text": [
      "Index([u'id', u'type', u'name', u'yearpublished', u'minplayers', u'maxplayers',\n",
      "       u'playingtime', u'minplaytime', u'maxplaytime', u'minage',\n",
      "       u'users_rated', u'average_rating', u'bayes_average_rating',\n",
      "       u'total_owners', u'total_traders', u'total_wanters', u'total_wishers',\n",
      "       u'total_comments', u'total_weights', u'average_weight'],\n",
      "      dtype='object')\n"
     ]
    }
   ],
   "source": [
    "# Read in the data.\n",
    "games = pandas.read_csv(\"games.csv\")\n",
    "# Print the names of the columns in games.\n",
    "print(games.columns)"
   ]
  },
  {
   "cell_type": "code",
   "execution_count": 4,
   "metadata": {
    "collapsed": true
   },
   "outputs": [],
   "source": [
    "# Remove any rows without user reviews.\n",
    "games = games[games[\"users_rated\"] > 0]\n",
    "# Remove any rows with missing values.\n",
    "games = games.dropna(axis=0)"
   ]
  },
  {
   "cell_type": "code",
   "execution_count": 5,
   "metadata": {
    "collapsed": false
   },
   "outputs": [
    {
     "data": {
      "text/plain": [
       "id                      0.304201\n",
       "yearpublished           0.108461\n",
       "minplayers             -0.032701\n",
       "maxplayers             -0.008335\n",
       "playingtime             0.048994\n",
       "minplaytime             0.043985\n",
       "maxplaytime             0.048994\n",
       "minage                  0.210049\n",
       "users_rated             0.112564\n",
       "average_rating          1.000000\n",
       "bayes_average_rating    0.231563\n",
       "total_owners            0.137478\n",
       "total_traders           0.119452\n",
       "total_wanters           0.196566\n",
       "total_wishers           0.171375\n",
       "total_comments          0.123714\n",
       "total_weights           0.109691\n",
       "average_weight          0.351081\n",
       "Name: average_rating, dtype: float64"
      ]
     },
     "execution_count": 5,
     "metadata": {},
     "output_type": "execute_result"
    }
   ],
   "source": [
    "games.corr()[\"average_rating\"]"
   ]
  },
  {
   "cell_type": "code",
   "execution_count": 6,
   "metadata": {
    "collapsed": true
   },
   "outputs": [],
   "source": [
    "# Get all the columns from the dataframe.\n",
    "columns = games.columns.tolist()\n",
    "# Filter the columns to remove ones we don't want.\n",
    "columns = [c for c in columns if c not in [\"bayes_average_rating\", \"average_rating\", \"type\", \"name\"]]\n",
    "\n",
    "# Store the variable we'll be predicting on.\n",
    "target = \"average_rating\""
   ]
  },
  {
   "cell_type": "code",
   "execution_count": 8,
   "metadata": {
    "collapsed": false
   },
   "outputs": [
    {
     "name": "stdout",
     "output_type": "stream",
     "text": [
      "(45515, 20)\n",
      "(11379, 20)\n"
     ]
    }
   ],
   "source": [
    "# Generate the training set.  Set random_state to be able to replicate results.\n",
    "train = games.sample(frac=0.8, random_state=1)\n",
    "# Select anything not in the training set and put it in the testing set.\n",
    "test = games.loc[~games.index.isin(train.index)]\n",
    "# Print the shapes of both sets.\n",
    "print(train.shape)\n",
    "print(test.shape)"
   ]
  },
  {
   "cell_type": "code",
   "execution_count": 46,
   "metadata": {
    "collapsed": false
   },
   "outputs": [
    {
     "data": {
      "text/plain": [
       "LinearRegression(copy_X=True, fit_intercept=True, n_jobs=1, normalize=False)"
      ]
     },
     "execution_count": 46,
     "metadata": {},
     "output_type": "execute_result"
    }
   ],
   "source": [
    "# Initialize the model class.\n",
    "model = LinearRegression()\n",
    "# Fit the model to the training data.\n",
    "model.fit(train[columns], train[target])"
   ]
  },
  {
   "cell_type": "code",
   "execution_count": 47,
   "metadata": {
    "collapsed": false
   },
   "outputs": [
    {
     "data": {
      "text/plain": [
       "1.8239281903519868"
      ]
     },
     "execution_count": 47,
     "metadata": {},
     "output_type": "execute_result"
    }
   ],
   "source": [
    "# Generate our predictions for the test set.\n",
    "predictions = model.predict(test[columns])\n",
    "\n",
    "# Compute error between our test predictions and the actual values.\n",
    "mean_squared_error(predictions, test[target])"
   ]
  },
  {
   "cell_type": "code",
   "execution_count": 14,
   "metadata": {
    "collapsed": false
   },
   "outputs": [
    {
     "data": {
      "text/plain": [
       "1.4144642407044481"
      ]
     },
     "execution_count": 14,
     "metadata": {},
     "output_type": "execute_result"
    }
   ],
   "source": [
    "# Initialize the model with some parameters.\n",
    "model = RandomForestRegressor(n_estimators=100, min_samples_leaf=10, random_state=1)\n",
    "# Fit the model to the data.\n",
    "model.fit(train[columns], train[target])\n",
    "# Make predictions.\n",
    "predictions = model.predict(test[columns])\n",
    "# Compute the error.\n",
    "mean_squared_error(predictions, test[target])"
   ]
  },
  {
   "cell_type": "code",
   "execution_count": null,
   "metadata": {
    "collapsed": true
   },
   "outputs": [],
   "source": []
  }
 ],
 "metadata": {
  "kernelspec": {
   "display_name": "Python 2",
   "language": "python",
   "name": "python2"
  },
  "language_info": {
   "codemirror_mode": {
    "name": "ipython",
    "version": 2
   },
   "file_extension": ".py",
   "mimetype": "text/x-python",
   "name": "python",
   "nbconvert_exporter": "python",
   "pygments_lexer": "ipython2",
   "version": "2.7.12"
  }
 },
 "nbformat": 4,
 "nbformat_minor": 0
}
